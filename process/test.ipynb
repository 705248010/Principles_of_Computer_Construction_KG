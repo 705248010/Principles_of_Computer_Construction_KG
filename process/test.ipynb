{
 "cells": [
  {
   "cell_type": "code",
   "execution_count": 1,
   "metadata": {},
   "outputs": [],
   "source": [
    "import json"
   ]
  },
  {
   "cell_type": "code",
   "execution_count": 2,
   "metadata": {},
   "outputs": [],
   "source": [
    "def remove_unlabled_shots_from_corpus(corpus: dict, blank_seq: list):\n",
    "    for n in blank_seq:\n",
    "        for idx in range(n * 8, (n + 1) * 8):\n",
    "            del corpus[str(idx)]\n",
    "    return corpus\n",
    "\n",
    "def remove_null_dict_from_labels(corpus_labels: dict, blank_seq: list):\n",
    "    for n in blank_seq:\n",
    "        del corpus_labels[n]\n",
    "    return corpus_labels\n",
    "\n",
    "def initial_dataset(corpus: dict, corpus_labels: dict):\n",
    "    dataset_dict = {\"corpus\": [], \"labels\": []}\n",
    "    for key, value in corpus.items():\n",
    "        dataset_dict['corpus'].append(value)\n",
    "    for key, value in corpus_labels.items():\n",
    "        for i in value:\n",
    "            dataset_dict['labels'].append(i)\n",
    "\n",
    "    return dataset_dict"
   ]
  },
  {
   "cell_type": "code",
   "execution_count": 18,
   "metadata": {},
   "outputs": [],
   "source": [
    "def process_labels(dataset_dict: dict):\n",
    "    for i, sentence in enumerate(dataset_dict['corpus']):\n",
    "        tmp = ['O'] * len(sentence)\n",
    "        labels = dataset_dict['labels'][i]['output']\n",
    "        for label in labels:\n",
    "            try:\n",
    "                for idx in range(label['start'], label['type'] + 1):\n",
    "                    tmp[idx] = f'I-{label['type']}'\n",
    "            except:\n",
    "                print(i)\n",
    "                print(len(sentence))\n",
    "                print(label)\n",
    "                return\n",
    "\n",
    "    return dataset_dict"
   ]
  },
  {
   "cell_type": "code",
   "execution_count": 4,
   "metadata": {},
   "outputs": [],
   "source": [
    "with open(r\"G:\\python_codes\\Principles_of_Computer_Construction_KG\\corpus\\texts_sentence.json\", \"r\", encoding=\"utf-8\") as f:\n",
    "    corpus = json.loads(f.read())\n",
    "\n",
    "with open(r\"G:\\python_codes\\Principles_of_Computer_Construction_KG\\corpus\\corpus_labels.txt\", \"r\", encoding=\"utf-8\") as f:\n",
    "    corpus_labels = eval(f.read())"
   ]
  },
  {
   "cell_type": "code",
   "execution_count": 5,
   "metadata": {},
   "outputs": [],
   "source": [
    "blank_seq = []\n",
    "for k, v in corpus_labels.items():\n",
    "    if not v:\n",
    "        blank_seq.append(k)"
   ]
  },
  {
   "cell_type": "code",
   "execution_count": 6,
   "metadata": {},
   "outputs": [],
   "source": [
    "new_corpus = remove_unlabled_shots_from_corpus(corpus, blank_seq)\n",
    "new_corpus_labels = remove_null_dict_from_labels(corpus_labels, blank_seq)"
   ]
  },
  {
   "cell_type": "code",
   "execution_count": 7,
   "metadata": {},
   "outputs": [],
   "source": [
    "dataset_dict = initial_dataset(new_corpus, new_corpus_labels)"
   ]
  },
  {
   "cell_type": "code",
   "execution_count": 19,
   "metadata": {},
   "outputs": [
    {
     "name": "stdout",
     "output_type": "stream",
     "text": [
      "0\n",
      "21\n",
      "{'type': 'CW', 'start': 0, 'end': 5, 'prob': 0.18410827, 'span': '计算机系统'}\n"
     ]
    }
   ],
   "source": [
    "new_dataset_dict = process_labels(dataset_dict)"
   ]
  },
  {
   "cell_type": "code",
   "execution_count": 2,
   "metadata": {},
   "outputs": [
    {
     "ename": "NameError",
     "evalue": "name 'dataset_dict' is not defined",
     "output_type": "error",
     "traceback": [
      "\u001b[1;31m---------------------------------------------------------------------------\u001b[0m",
      "\u001b[1;31mNameError\u001b[0m                                 Traceback (most recent call last)",
      "Cell \u001b[1;32mIn[2], line 2\u001b[0m\n\u001b[0;32m      1\u001b[0m \u001b[38;5;28;01mwith\u001b[39;00m \u001b[38;5;28mopen\u001b[39m(\u001b[38;5;124mr\u001b[39m\u001b[38;5;124m'\u001b[39m\u001b[38;5;124mG:\u001b[39m\u001b[38;5;124m\\\u001b[39m\u001b[38;5;124mpython_codes\u001b[39m\u001b[38;5;124m\\\u001b[39m\u001b[38;5;124mPrinciples_of_Computer_Construction_KG\u001b[39m\u001b[38;5;124m\\\u001b[39m\u001b[38;5;124moutput\u001b[39m\u001b[38;5;124m\\\u001b[39m\u001b[38;5;124mdatasets_backup.json\u001b[39m\u001b[38;5;124m'\u001b[39m, \u001b[38;5;124m'\u001b[39m\u001b[38;5;124mw\u001b[39m\u001b[38;5;124m'\u001b[39m, encoding\u001b[38;5;241m=\u001b[39m\u001b[38;5;124m'\u001b[39m\u001b[38;5;124mutf-8\u001b[39m\u001b[38;5;124m'\u001b[39m) \u001b[38;5;28;01mas\u001b[39;00m f:\n\u001b[1;32m----> 2\u001b[0m     f\u001b[38;5;241m.\u001b[39mwrite(json\u001b[38;5;241m.\u001b[39mdumps(\u001b[43mdataset_dict\u001b[49m))\n",
      "\u001b[1;31mNameError\u001b[0m: name 'dataset_dict' is not defined"
     ]
    }
   ],
   "source": [
    "with open(r'G:\\python_codes\\Principles_of_Computer_Construction_KG\\output\\datasets_backup.json', 'w', encoding='utf-8') as f:\n",
    "    f.write(json.dumps(dataset_dict))"
   ]
  },
  {
   "cell_type": "code",
   "execution_count": 20,
   "metadata": {},
   "outputs": [],
   "source": [
    "with open(r'G:\\python_codes\\Principles_of_Computer_Construction_KG\\output\\datasets.json', 'r', encoding='utf-8') as f:\n",
    "    test = json.loads(f.read())"
   ]
  },
  {
   "cell_type": "code",
   "execution_count": 21,
   "metadata": {},
   "outputs": [
    {
     "data": {
      "text/plain": [
       "True"
      ]
     },
     "execution_count": 21,
     "metadata": {},
     "output_type": "execute_result"
    }
   ],
   "source": [
    "len(test['corpus']) == len(test['labels'])"
   ]
  },
  {
   "cell_type": "code",
   "execution_count": 22,
   "metadata": {},
   "outputs": [
    {
     "data": {
      "text/plain": [
       "'计算机系统由“硬件”和“软件”两大部分组成'"
      ]
     },
     "execution_count": 22,
     "metadata": {},
     "output_type": "execute_result"
    }
   ],
   "source": [
    "test['corpus'][0]"
   ]
  },
  {
   "cell_type": "code",
   "execution_count": 23,
   "metadata": {},
   "outputs": [
    {
     "data": {
      "text/plain": [
       "['I-CW',\n",
       " 'I-CW',\n",
       " 'I-CW',\n",
       " 'I-CW',\n",
       " 'I-CW',\n",
       " 'O',\n",
       " 'O',\n",
       " 'O',\n",
       " 'O',\n",
       " 'O',\n",
       " 'O',\n",
       " 'O',\n",
       " 'O',\n",
       " 'O',\n",
       " 'O',\n",
       " 'O',\n",
       " 'O',\n",
       " 'O',\n",
       " 'O',\n",
       " 'O',\n",
       " 'O']"
      ]
     },
     "execution_count": 23,
     "metadata": {},
     "output_type": "execute_result"
    }
   ],
   "source": [
    "test['labels'][0]"
   ]
  },
  {
   "cell_type": "code",
   "execution_count": null,
   "metadata": {},
   "outputs": [],
   "source": []
  }
 ],
 "metadata": {
  "kernelspec": {
   "display_name": "Python 3",
   "language": "python",
   "name": "python3"
  },
  "language_info": {
   "codemirror_mode": {
    "name": "ipython",
    "version": 3
   },
   "file_extension": ".py",
   "mimetype": "text/x-python",
   "name": "python",
   "nbconvert_exporter": "python",
   "pygments_lexer": "ipython3",
   "version": "3.12.4"
  }
 },
 "nbformat": 4,
 "nbformat_minor": 2
}
